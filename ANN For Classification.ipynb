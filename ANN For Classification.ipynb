{
 "cells": [
  {
   "cell_type": "code",
   "execution_count": 1,
   "id": "1ecc87f4",
   "metadata": {},
   "outputs": [],
   "source": [
    "import pandas as pd\n",
    "#documentaion of tensorflow"
   ]
  },
  {
   "cell_type": "code",
   "execution_count": 2,
   "id": "4a23ce53",
   "metadata": {},
   "outputs": [],
   "source": [
    "data = pd.read_csv('diabetes.csv')"
   ]
  },
  {
   "cell_type": "code",
   "execution_count": 3,
   "id": "5669d4ae",
   "metadata": {},
   "outputs": [
    {
     "data": {
      "text/html": [
       "<div>\n",
       "<style scoped>\n",
       "    .dataframe tbody tr th:only-of-type {\n",
       "        vertical-align: middle;\n",
       "    }\n",
       "\n",
       "    .dataframe tbody tr th {\n",
       "        vertical-align: top;\n",
       "    }\n",
       "\n",
       "    .dataframe thead th {\n",
       "        text-align: right;\n",
       "    }\n",
       "</style>\n",
       "<table border=\"1\" class=\"dataframe\">\n",
       "  <thead>\n",
       "    <tr style=\"text-align: right;\">\n",
       "      <th></th>\n",
       "      <th>Pregnancies</th>\n",
       "      <th>Glucose</th>\n",
       "      <th>BloodPressure</th>\n",
       "      <th>SkinThickness</th>\n",
       "      <th>Insulin</th>\n",
       "      <th>BMI</th>\n",
       "      <th>DiabetesPedigreeFunction</th>\n",
       "      <th>Age</th>\n",
       "      <th>Outcome</th>\n",
       "    </tr>\n",
       "  </thead>\n",
       "  <tbody>\n",
       "    <tr>\n",
       "      <th>0</th>\n",
       "      <td>6</td>\n",
       "      <td>148</td>\n",
       "      <td>72</td>\n",
       "      <td>35</td>\n",
       "      <td>0</td>\n",
       "      <td>33.6</td>\n",
       "      <td>0.627</td>\n",
       "      <td>50</td>\n",
       "      <td>1</td>\n",
       "    </tr>\n",
       "    <tr>\n",
       "      <th>1</th>\n",
       "      <td>1</td>\n",
       "      <td>85</td>\n",
       "      <td>66</td>\n",
       "      <td>29</td>\n",
       "      <td>0</td>\n",
       "      <td>26.6</td>\n",
       "      <td>0.351</td>\n",
       "      <td>31</td>\n",
       "      <td>0</td>\n",
       "    </tr>\n",
       "  </tbody>\n",
       "</table>\n",
       "</div>"
      ],
      "text/plain": [
       "   Pregnancies  Glucose  BloodPressure  SkinThickness  Insulin   BMI  \\\n",
       "0            6      148             72             35        0  33.6   \n",
       "1            1       85             66             29        0  26.6   \n",
       "\n",
       "   DiabetesPedigreeFunction  Age  Outcome  \n",
       "0                     0.627   50        1  \n",
       "1                     0.351   31        0  "
      ]
     },
     "execution_count": 3,
     "metadata": {},
     "output_type": "execute_result"
    }
   ],
   "source": [
    "data.head(2)"
   ]
  },
  {
   "cell_type": "markdown",
   "id": "488fd616",
   "metadata": {},
   "source": [
    "# DNN LIBRARIES \n",
    "# TENSORFLOW\n",
    "# KERAS \n",
    "# THEANO \n",
    "# PYTORCH"
   ]
  },
  {
   "cell_type": "code",
   "execution_count": 4,
   "id": "ce3b4a85",
   "metadata": {},
   "outputs": [
    {
     "data": {
      "text/plain": [
       "Index(['Pregnancies', 'Glucose', 'BloodPressure', 'SkinThickness', 'Insulin',\n",
       "       'BMI', 'DiabetesPedigreeFunction', 'Age', 'Outcome'],\n",
       "      dtype='object')"
      ]
     },
     "execution_count": 4,
     "metadata": {},
     "output_type": "execute_result"
    }
   ],
   "source": [
    "data.columns\n"
   ]
  },
  {
   "cell_type": "code",
   "execution_count": 5,
   "id": "275d2991",
   "metadata": {},
   "outputs": [],
   "source": [
    "X = data[['Pregnancies', 'Glucose', 'BloodPressure', 'SkinThickness', 'Insulin',\n",
    "       'BMI', 'DiabetesPedigreeFunction', 'Age']].values"
   ]
  },
  {
   "cell_type": "code",
   "execution_count": 6,
   "id": "c2b3455c",
   "metadata": {},
   "outputs": [
    {
     "data": {
      "text/plain": [
       "array([[  6.   , 148.   ,  72.   , ...,  33.6  ,   0.627,  50.   ],\n",
       "       [  1.   ,  85.   ,  66.   , ...,  26.6  ,   0.351,  31.   ],\n",
       "       [  8.   , 183.   ,  64.   , ...,  23.3  ,   0.672,  32.   ],\n",
       "       ...,\n",
       "       [  5.   , 121.   ,  72.   , ...,  26.2  ,   0.245,  30.   ],\n",
       "       [  1.   , 126.   ,  60.   , ...,  30.1  ,   0.349,  47.   ],\n",
       "       [  1.   ,  93.   ,  70.   , ...,  30.4  ,   0.315,  23.   ]])"
      ]
     },
     "execution_count": 6,
     "metadata": {},
     "output_type": "execute_result"
    }
   ],
   "source": [
    "X"
   ]
  },
  {
   "cell_type": "code",
   "execution_count": 7,
   "id": "00022f6d",
   "metadata": {},
   "outputs": [],
   "source": [
    "y = data['Outcome'].values"
   ]
  },
  {
   "cell_type": "code",
   "execution_count": 8,
   "id": "1e8dd8b4",
   "metadata": {},
   "outputs": [],
   "source": [
    "from tensorflow.keras.utils import to_categorical"
   ]
  },
  {
   "cell_type": "code",
   "execution_count": 9,
   "id": "15a3ccbb",
   "metadata": {},
   "outputs": [],
   "source": [
    "#y = to_categorical(y)"
   ]
  },
  {
   "cell_type": "code",
   "execution_count": 10,
   "id": "869730da",
   "metadata": {},
   "outputs": [
    {
     "data": {
      "text/plain": [
       "array([1, 0, 1, 0, 1], dtype=int64)"
      ]
     },
     "execution_count": 10,
     "metadata": {},
     "output_type": "execute_result"
    }
   ],
   "source": [
    "y[:5]"
   ]
  },
  {
   "cell_type": "code",
   "execution_count": 11,
   "id": "cab93304",
   "metadata": {},
   "outputs": [],
   "source": [
    "from sklearn.model_selection import train_test_split"
   ]
  },
  {
   "cell_type": "code",
   "execution_count": 12,
   "id": "cb4ba704",
   "metadata": {},
   "outputs": [],
   "source": [
    "x_train,x_test,y_train,y_test = train_test_split(X, y, test_size=0.2, random_state=50)"
   ]
  },
  {
   "cell_type": "code",
   "execution_count": 13,
   "id": "980d50fa",
   "metadata": {},
   "outputs": [
    {
     "data": {
      "text/plain": [
       "(614, 8)"
      ]
     },
     "execution_count": 13,
     "metadata": {},
     "output_type": "execute_result"
    }
   ],
   "source": [
    "x_train.shape"
   ]
  },
  {
   "cell_type": "code",
   "execution_count": 14,
   "id": "0adef23f",
   "metadata": {},
   "outputs": [],
   "source": [
    "from tensorflow.keras.models import Sequential"
   ]
  },
  {
   "cell_type": "code",
   "execution_count": 15,
   "id": "ec05ac19",
   "metadata": {},
   "outputs": [],
   "source": [
    "model = Sequential() #brain without neurons"
   ]
  },
  {
   "cell_type": "code",
   "execution_count": 16,
   "id": "94380382",
   "metadata": {},
   "outputs": [],
   "source": [
    "from tensorflow.keras.layers import Dense"
   ]
  },
  {
   "cell_type": "code",
   "execution_count": 17,
   "id": "7dd83d3d",
   "metadata": {},
   "outputs": [],
   "source": [
    "model.add(Dense(220, input_shape=(8,), activation = 'relu')) #input layer"
   ]
  },
  {
   "cell_type": "code",
   "execution_count": 18,
   "id": "d1ec5518",
   "metadata": {},
   "outputs": [],
   "source": [
    "model.add(Dense(528, activation='relu')) #hidden layer\n",
    "model.add(Dense(528, activation='relu')) #hidden layer\n",
    "model.add(Dense(528, activation='relu')) #hidden layer\n",
    "model.add(Dense(528, activation='relu')) #hidden layer\n",
    "model.add(Dense(528, activation='relu')) #hidden layer\n",
    "model.add(Dense(528, activation='relu')) #hidden layer"
   ]
  },
  {
   "cell_type": "code",
   "execution_count": 19,
   "id": "57dbd331",
   "metadata": {},
   "outputs": [],
   "source": [
    "model.add(Dense(1, activation='sigmoid')) #output layer"
   ]
  },
  {
   "cell_type": "code",
   "execution_count": 20,
   "id": "696e6b85",
   "metadata": {},
   "outputs": [],
   "source": [
    "model.compile(loss = 'binary_crossentropy', optimizer = 'adam')"
   ]
  },
  {
   "cell_type": "code",
   "execution_count": 21,
   "id": "b59d5dfc",
   "metadata": {},
   "outputs": [
    {
     "data": {
      "text/plain": [
       "30.7"
      ]
     },
     "execution_count": 21,
     "metadata": {},
     "output_type": "execute_result"
    }
   ],
   "source": [
    "614 / 20"
   ]
  },
  {
   "cell_type": "code",
   "execution_count": 22,
   "id": "e0f29a57",
   "metadata": {},
   "outputs": [
    {
     "name": "stdout",
     "output_type": "stream",
     "text": [
      "Epoch 1/100\n",
      "31/31 [==============================] - 2s 45ms/step - loss: 1.0265\n",
      "Epoch 2/100\n",
      "31/31 [==============================] - 1s 37ms/step - loss: 0.6327\n",
      "Epoch 3/100\n",
      "31/31 [==============================] - 1s 35ms/step - loss: 0.6176\n",
      "Epoch 4/100\n",
      "31/31 [==============================] - 1s 37ms/step - loss: 0.6186\n",
      "Epoch 5/100\n",
      "31/31 [==============================] - 1s 35ms/step - loss: 0.6363\n",
      "Epoch 6/100\n",
      "31/31 [==============================] - 1s 37ms/step - loss: 0.5965\n",
      "Epoch 7/100\n",
      "31/31 [==============================] - 1s 38ms/step - loss: 0.5912\n",
      "Epoch 8/100\n",
      "31/31 [==============================] - 1s 37ms/step - loss: 0.6003\n",
      "Epoch 9/100\n",
      "31/31 [==============================] - 1s 36ms/step - loss: 0.5800\n",
      "Epoch 10/100\n",
      "31/31 [==============================] - 1s 38ms/step - loss: 0.5892\n",
      "Epoch 11/100\n",
      "31/31 [==============================] - 1s 35ms/step - loss: 0.5939\n",
      "Epoch 12/100\n",
      "31/31 [==============================] - 1s 37ms/step - loss: 0.5466\n",
      "Epoch 13/100\n",
      "31/31 [==============================] - 1s 36ms/step - loss: 0.5938\n",
      "Epoch 14/100\n",
      "31/31 [==============================] - 1s 38ms/step - loss: 0.5835\n",
      "Epoch 15/100\n",
      "31/31 [==============================] - 1s 36ms/step - loss: 0.5873\n",
      "Epoch 16/100\n",
      "31/31 [==============================] - 1s 37ms/step - loss: 0.5398\n",
      "Epoch 17/100\n",
      "31/31 [==============================] - 1s 36ms/step - loss: 0.5398\n",
      "Epoch 18/100\n",
      "31/31 [==============================] - 1s 35ms/step - loss: 0.5328\n",
      "Epoch 19/100\n",
      "31/31 [==============================] - 1s 36ms/step - loss: 0.5635\n",
      "Epoch 20/100\n",
      "31/31 [==============================] - 1s 36ms/step - loss: 0.5277\n",
      "Epoch 21/100\n",
      "31/31 [==============================] - 1s 36ms/step - loss: 0.5351\n",
      "Epoch 22/100\n",
      "31/31 [==============================] - 1s 34ms/step - loss: 0.5424\n",
      "Epoch 23/100\n",
      "31/31 [==============================] - 1s 36ms/step - loss: 0.5235\n",
      "Epoch 24/100\n",
      "31/31 [==============================] - 1s 36ms/step - loss: 0.5142\n",
      "Epoch 25/100\n",
      "31/31 [==============================] - 1s 36ms/step - loss: 0.5279\n",
      "Epoch 26/100\n",
      "31/31 [==============================] - 1s 36ms/step - loss: 0.5536\n",
      "Epoch 27/100\n",
      "31/31 [==============================] - 1s 37ms/step - loss: 0.5698\n",
      "Epoch 28/100\n",
      "31/31 [==============================] - 1s 35ms/step - loss: 0.5243\n",
      "Epoch 29/100\n",
      "31/31 [==============================] - 1s 36ms/step - loss: 0.5171\n",
      "Epoch 30/100\n",
      "31/31 [==============================] - 1s 36ms/step - loss: 0.5254\n",
      "Epoch 31/100\n",
      "31/31 [==============================] - 1s 35ms/step - loss: 0.5001\n",
      "Epoch 32/100\n",
      "31/31 [==============================] - 1s 34ms/step - loss: 0.4886\n",
      "Epoch 33/100\n",
      "31/31 [==============================] - 1s 31ms/step - loss: 0.4923\n",
      "Epoch 34/100\n",
      "31/31 [==============================] - 1s 31ms/step - loss: 0.4855\n",
      "Epoch 35/100\n",
      "31/31 [==============================] - 1s 31ms/step - loss: 0.5145\n",
      "Epoch 36/100\n",
      "31/31 [==============================] - 1s 31ms/step - loss: 0.4903\n",
      "Epoch 37/100\n",
      "31/31 [==============================] - 1s 30ms/step - loss: 0.4953\n",
      "Epoch 38/100\n",
      "31/31 [==============================] - 1s 30ms/step - loss: 0.5010\n",
      "Epoch 39/100\n",
      "31/31 [==============================] - 1s 30ms/step - loss: 0.4831\n",
      "Epoch 40/100\n",
      "31/31 [==============================] - 1s 31ms/step - loss: 0.4699\n",
      "Epoch 41/100\n",
      "31/31 [==============================] - 1s 32ms/step - loss: 0.4971\n",
      "Epoch 42/100\n",
      "31/31 [==============================] - 1s 31ms/step - loss: 0.5249\n",
      "Epoch 43/100\n",
      "31/31 [==============================] - 1s 31ms/step - loss: 0.4865\n",
      "Epoch 44/100\n",
      "31/31 [==============================] - 1s 30ms/step - loss: 0.4933\n",
      "Epoch 45/100\n",
      "31/31 [==============================] - 1s 31ms/step - loss: 0.4952\n",
      "Epoch 46/100\n",
      "31/31 [==============================] - 1s 26ms/step - loss: 0.4854\n",
      "Epoch 47/100\n",
      "31/31 [==============================] - 1s 26ms/step - loss: 0.4566\n",
      "Epoch 48/100\n",
      "31/31 [==============================] - 1s 26ms/step - loss: 0.4741\n",
      "Epoch 49/100\n",
      "31/31 [==============================] - 1s 26ms/step - loss: 0.4841\n",
      "Epoch 50/100\n",
      "31/31 [==============================] - 1s 26ms/step - loss: 0.4734\n",
      "Epoch 51/100\n",
      "31/31 [==============================] - 1s 25ms/step - loss: 0.4616\n",
      "Epoch 52/100\n",
      "31/31 [==============================] - 1s 27ms/step - loss: 0.4876\n",
      "Epoch 53/100\n",
      "31/31 [==============================] - 1s 26ms/step - loss: 0.4620\n",
      "Epoch 54/100\n",
      "31/31 [==============================] - 1s 26ms/step - loss: 0.4471\n",
      "Epoch 55/100\n",
      "31/31 [==============================] - 1s 26ms/step - loss: 0.4588\n",
      "Epoch 56/100\n",
      "31/31 [==============================] - 1s 25ms/step - loss: 0.4273\n",
      "Epoch 57/100\n",
      "31/31 [==============================] - 1s 26ms/step - loss: 0.4339\n",
      "Epoch 58/100\n",
      "31/31 [==============================] - 1s 26ms/step - loss: 0.4435\n",
      "Epoch 59/100\n",
      "31/31 [==============================] - 1s 26ms/step - loss: 0.4601\n",
      "Epoch 60/100\n",
      "31/31 [==============================] - 1s 27ms/step - loss: 0.4359\n",
      "Epoch 61/100\n",
      "31/31 [==============================] - 1s 25ms/step - loss: 0.4254\n",
      "Epoch 62/100\n",
      "31/31 [==============================] - 1s 26ms/step - loss: 0.4160\n",
      "Epoch 63/100\n",
      "31/31 [==============================] - 1s 26ms/step - loss: 0.4051\n",
      "Epoch 64/100\n",
      "31/31 [==============================] - 1s 26ms/step - loss: 0.4600\n",
      "Epoch 65/100\n",
      "31/31 [==============================] - 1s 26ms/step - loss: 0.4582\n",
      "Epoch 66/100\n",
      "31/31 [==============================] - 1s 25ms/step - loss: 0.4398\n",
      "Epoch 67/100\n",
      "31/31 [==============================] - 1s 26ms/step - loss: 0.4487\n",
      "Epoch 68/100\n",
      "31/31 [==============================] - 1s 26ms/step - loss: 0.4826\n",
      "Epoch 69/100\n",
      "31/31 [==============================] - 1s 26ms/step - loss: 0.4503\n",
      "Epoch 70/100\n",
      "31/31 [==============================] - 1s 25ms/step - loss: 0.4306\n",
      "Epoch 71/100\n",
      "31/31 [==============================] - 1s 26ms/step - loss: 0.4442\n",
      "Epoch 72/100\n",
      "31/31 [==============================] - 1s 26ms/step - loss: 0.4261\n",
      "Epoch 73/100\n",
      "31/31 [==============================] - 1s 26ms/step - loss: 0.4066\n",
      "Epoch 74/100\n",
      "31/31 [==============================] - 1s 26ms/step - loss: 0.3900\n",
      "Epoch 75/100\n",
      "31/31 [==============================] - 1s 26ms/step - loss: 0.4275\n",
      "Epoch 76/100\n",
      "31/31 [==============================] - 1s 26ms/step - loss: 0.4310\n",
      "Epoch 77/100\n",
      "31/31 [==============================] - 1s 26ms/step - loss: 0.4145\n",
      "Epoch 78/100\n",
      "31/31 [==============================] - 1s 26ms/step - loss: 0.3790\n",
      "Epoch 79/100\n",
      "31/31 [==============================] - 1s 26ms/step - loss: 0.4206\n",
      "Epoch 80/100\n",
      "31/31 [==============================] - 1s 25ms/step - loss: 0.3846\n",
      "Epoch 81/100\n",
      "31/31 [==============================] - 1s 26ms/step - loss: 0.3809\n",
      "Epoch 82/100\n",
      "31/31 [==============================] - 1s 26ms/step - loss: 0.3889\n",
      "Epoch 83/100\n",
      "31/31 [==============================] - 1s 27ms/step - loss: 0.3691\n",
      "Epoch 84/100\n",
      "31/31 [==============================] - 1s 28ms/step - loss: 0.3940\n",
      "Epoch 85/100\n",
      "31/31 [==============================] - 1s 28ms/step - loss: 0.3919\n",
      "Epoch 86/100\n",
      "31/31 [==============================] - 1s 29ms/step - loss: 0.4571\n",
      "Epoch 87/100\n",
      "31/31 [==============================] - 1s 27ms/step - loss: 0.4014\n",
      "Epoch 88/100\n",
      "31/31 [==============================] - 1s 25ms/step - loss: 0.3894\n",
      "Epoch 89/100\n",
      "31/31 [==============================] - 1s 27ms/step - loss: 0.3958\n",
      "Epoch 90/100\n",
      "31/31 [==============================] - 1s 25ms/step - loss: 0.4265\n",
      "Epoch 91/100\n",
      "31/31 [==============================] - 1s 26ms/step - loss: 0.4433\n",
      "Epoch 92/100\n",
      "31/31 [==============================] - 1s 25ms/step - loss: 0.3933\n",
      "Epoch 93/100\n",
      "31/31 [==============================] - 1s 26ms/step - loss: 0.3822\n",
      "Epoch 94/100\n",
      "31/31 [==============================] - 1s 26ms/step - loss: 0.3992\n",
      "Epoch 95/100\n",
      "31/31 [==============================] - 1s 26ms/step - loss: 0.3823\n",
      "Epoch 96/100\n",
      "31/31 [==============================] - 1s 26ms/step - loss: 0.3617\n",
      "Epoch 97/100\n",
      "31/31 [==============================] - 1s 27ms/step - loss: 0.3740\n",
      "Epoch 98/100\n",
      "31/31 [==============================] - 1s 26ms/step - loss: 0.3891\n",
      "Epoch 99/100\n",
      "31/31 [==============================] - 1s 26ms/step - loss: 0.3438\n",
      "Epoch 100/100\n",
      "31/31 [==============================] - 1s 25ms/step - loss: 0.3552\n"
     ]
    },
    {
     "data": {
      "text/plain": [
       "<keras.callbacks.History at 0x1c8520ec880>"
      ]
     },
     "execution_count": 22,
     "metadata": {},
     "output_type": "execute_result"
    }
   ],
   "source": [
    "model.fit(x_train,y_train, epochs=100, batch_size = 20)"
   ]
  },
  {
   "cell_type": "code",
   "execution_count": 23,
   "id": "3c7e28ef",
   "metadata": {},
   "outputs": [],
   "source": [
    "from sklearn.metrics import f1_score"
   ]
  },
  {
   "cell_type": "code",
   "execution_count": 24,
   "id": "f6c71d90",
   "metadata": {},
   "outputs": [
    {
     "name": "stdout",
     "output_type": "stream",
     "text": [
      "5/5 [==============================] - 0s 5ms/step\n"
     ]
    }
   ],
   "source": [
    "y_pred = model.predict(x_test)"
   ]
  },
  {
   "cell_type": "code",
   "execution_count": 25,
   "id": "f826e517",
   "metadata": {},
   "outputs": [
    {
     "data": {
      "text/plain": [
       "array([[2.7819160e-01],\n",
       "       [9.8327404e-01],\n",
       "       [4.4183579e-01],\n",
       "       [8.4335700e-02],\n",
       "       [1.6382621e-01],\n",
       "       [3.1475803e-01],\n",
       "       [7.6933093e-03],\n",
       "       [3.5105979e-01],\n",
       "       [7.8684032e-01],\n",
       "       [2.1707112e-01],\n",
       "       [9.1317803e-02],\n",
       "       [3.0284461e-01],\n",
       "       [4.9860109e-02],\n",
       "       [8.1288487e-01],\n",
       "       [5.5478203e-01],\n",
       "       [4.3294752e-01],\n",
       "       [9.5128834e-01],\n",
       "       [5.8968860e-01],\n",
       "       [6.0424083e-01],\n",
       "       [4.3567256e-03],\n",
       "       [9.3568462e-01],\n",
       "       [3.1236704e-02],\n",
       "       [7.5366855e-01],\n",
       "       [5.9221277e-04],\n",
       "       [2.8753296e-01],\n",
       "       [3.8788894e-01],\n",
       "       [3.8130844e-01],\n",
       "       [3.8858768e-01],\n",
       "       [8.8777602e-01],\n",
       "       [9.0145636e-01],\n",
       "       [1.2121290e-01],\n",
       "       [1.1186730e-01],\n",
       "       [4.0710196e-04],\n",
       "       [9.3785816e-01],\n",
       "       [8.9887076e-04],\n",
       "       [5.8030173e-02],\n",
       "       [2.3842071e-01],\n",
       "       [3.6957633e-01],\n",
       "       [8.5177517e-01],\n",
       "       [1.1321504e-01],\n",
       "       [7.0521617e-01],\n",
       "       [7.9053831e-01],\n",
       "       [6.0409047e-03],\n",
       "       [4.7544763e-10],\n",
       "       [1.9122481e-03],\n",
       "       [5.3814031e-02],\n",
       "       [8.8946164e-01],\n",
       "       [2.1534511e-03],\n",
       "       [6.2126327e-01],\n",
       "       [3.3825304e-15],\n",
       "       [2.6470524e-01],\n",
       "       [2.3696187e-01],\n",
       "       [6.4962274e-01],\n",
       "       [9.9944019e-01],\n",
       "       [2.3166151e-01],\n",
       "       [8.2769662e-01],\n",
       "       [6.1607343e-01],\n",
       "       [6.0664809e-01],\n",
       "       [2.0353734e-01],\n",
       "       [2.3005113e-02],\n",
       "       [6.9763333e-01],\n",
       "       [5.8085509e-02],\n",
       "       [4.9437326e-01],\n",
       "       [6.0045844e-01],\n",
       "       [4.5676380e-02],\n",
       "       [7.2859585e-01],\n",
       "       [5.3133464e-01],\n",
       "       [8.9251530e-01],\n",
       "       [7.9735523e-01],\n",
       "       [2.7817112e-01],\n",
       "       [1.9263510e-02],\n",
       "       [9.6331334e-01],\n",
       "       [6.2302947e-01],\n",
       "       [1.3831208e-02],\n",
       "       [1.5029804e-01],\n",
       "       [9.0046197e-01],\n",
       "       [3.6422971e-01],\n",
       "       [3.0927938e-01],\n",
       "       [3.7891510e-01],\n",
       "       [1.7377179e-02],\n",
       "       [3.5179126e-01],\n",
       "       [7.7996492e-01],\n",
       "       [5.8647841e-01],\n",
       "       [9.5122308e-01],\n",
       "       [6.5544236e-01],\n",
       "       [1.2149171e-01],\n",
       "       [3.8466871e-02],\n",
       "       [6.3491136e-01],\n",
       "       [2.6003788e-03],\n",
       "       [7.5407374e-01],\n",
       "       [1.2132874e-02],\n",
       "       [2.7949560e-01],\n",
       "       [2.5387716e-01],\n",
       "       [8.0421215e-01],\n",
       "       [3.8552815e-01],\n",
       "       [7.3004514e-01],\n",
       "       [9.0843987e-01],\n",
       "       [2.7524439e-01],\n",
       "       [5.2711898e-01],\n",
       "       [9.0599883e-01],\n",
       "       [4.7002321e-01],\n",
       "       [9.2273182e-01],\n",
       "       [1.0488523e-03],\n",
       "       [3.1807023e-01],\n",
       "       [9.3945372e-01],\n",
       "       [3.4047401e-01],\n",
       "       [9.5348793e-01],\n",
       "       [3.4274656e-01],\n",
       "       [1.3276049e-02],\n",
       "       [3.1405684e-18],\n",
       "       [2.4890220e-01],\n",
       "       [2.1723555e-01],\n",
       "       [1.5707783e-01],\n",
       "       [5.1239324e-01],\n",
       "       [5.9083430e-04],\n",
       "       [6.7884737e-01],\n",
       "       [9.5644742e-01],\n",
       "       [1.3581775e-01],\n",
       "       [9.3061018e-01],\n",
       "       [3.6512002e-01],\n",
       "       [1.2772958e-01],\n",
       "       [3.6436191e-01],\n",
       "       [2.7804977e-01],\n",
       "       [7.4629176e-01],\n",
       "       [4.6156037e-01],\n",
       "       [9.6916296e-03],\n",
       "       [9.6549797e-01],\n",
       "       [8.2319599e-01],\n",
       "       [7.4765503e-01],\n",
       "       [9.9172002e-01],\n",
       "       [3.8009760e-01],\n",
       "       [3.1854972e-01],\n",
       "       [9.8130900e-01],\n",
       "       [7.7418816e-01],\n",
       "       [2.0747912e-01],\n",
       "       [2.5833358e-06],\n",
       "       [7.0780907e-12],\n",
       "       [5.3149110e-01],\n",
       "       [1.4662459e-12],\n",
       "       [9.4544190e-01],\n",
       "       [3.6026555e-01],\n",
       "       [2.0653073e-02],\n",
       "       [2.3356783e-01],\n",
       "       [7.9823554e-01],\n",
       "       [2.8649232e-01],\n",
       "       [9.8839617e-01],\n",
       "       [9.2972273e-01],\n",
       "       [7.6190299e-01],\n",
       "       [7.9119498e-01],\n",
       "       [1.2098836e-02],\n",
       "       [7.7620637e-01],\n",
       "       [4.0113193e-01],\n",
       "       [5.7607251e-01],\n",
       "       [3.0261871e-01]], dtype=float32)"
      ]
     },
     "execution_count": 25,
     "metadata": {},
     "output_type": "execute_result"
    }
   ],
   "source": [
    "y_pred"
   ]
  },
  {
   "cell_type": "code",
   "execution_count": 26,
   "id": "f676e9cc",
   "metadata": {},
   "outputs": [],
   "source": [
    "y_prednew = [1 if x >= 0.5 else 0 for x in y_pred]"
   ]
  },
  {
   "cell_type": "code",
   "execution_count": 27,
   "id": "915c375c",
   "metadata": {},
   "outputs": [
    {
     "data": {
      "text/plain": [
       "[0,\n",
       " 1,\n",
       " 0,\n",
       " 0,\n",
       " 0,\n",
       " 0,\n",
       " 0,\n",
       " 0,\n",
       " 1,\n",
       " 0,\n",
       " 0,\n",
       " 0,\n",
       " 0,\n",
       " 1,\n",
       " 1,\n",
       " 0,\n",
       " 1,\n",
       " 1,\n",
       " 1,\n",
       " 0,\n",
       " 1,\n",
       " 0,\n",
       " 1,\n",
       " 0,\n",
       " 0,\n",
       " 0,\n",
       " 0,\n",
       " 0,\n",
       " 1,\n",
       " 1,\n",
       " 0,\n",
       " 0,\n",
       " 0,\n",
       " 1,\n",
       " 0,\n",
       " 0,\n",
       " 0,\n",
       " 0,\n",
       " 1,\n",
       " 0,\n",
       " 1,\n",
       " 1,\n",
       " 0,\n",
       " 0,\n",
       " 0,\n",
       " 0,\n",
       " 1,\n",
       " 0,\n",
       " 1,\n",
       " 0,\n",
       " 0,\n",
       " 0,\n",
       " 1,\n",
       " 1,\n",
       " 0,\n",
       " 1,\n",
       " 1,\n",
       " 1,\n",
       " 0,\n",
       " 0,\n",
       " 1,\n",
       " 0,\n",
       " 0,\n",
       " 1,\n",
       " 0,\n",
       " 1,\n",
       " 1,\n",
       " 1,\n",
       " 1,\n",
       " 0,\n",
       " 0,\n",
       " 1,\n",
       " 1,\n",
       " 0,\n",
       " 0,\n",
       " 1,\n",
       " 0,\n",
       " 0,\n",
       " 0,\n",
       " 0,\n",
       " 0,\n",
       " 1,\n",
       " 1,\n",
       " 1,\n",
       " 1,\n",
       " 0,\n",
       " 0,\n",
       " 1,\n",
       " 0,\n",
       " 1,\n",
       " 0,\n",
       " 0,\n",
       " 0,\n",
       " 1,\n",
       " 0,\n",
       " 1,\n",
       " 1,\n",
       " 0,\n",
       " 1,\n",
       " 1,\n",
       " 0,\n",
       " 1,\n",
       " 0,\n",
       " 0,\n",
       " 1,\n",
       " 0,\n",
       " 1,\n",
       " 0,\n",
       " 0,\n",
       " 0,\n",
       " 0,\n",
       " 0,\n",
       " 0,\n",
       " 1,\n",
       " 0,\n",
       " 1,\n",
       " 1,\n",
       " 0,\n",
       " 1,\n",
       " 0,\n",
       " 0,\n",
       " 0,\n",
       " 0,\n",
       " 1,\n",
       " 0,\n",
       " 0,\n",
       " 1,\n",
       " 1,\n",
       " 1,\n",
       " 1,\n",
       " 0,\n",
       " 0,\n",
       " 1,\n",
       " 1,\n",
       " 0,\n",
       " 0,\n",
       " 0,\n",
       " 1,\n",
       " 0,\n",
       " 1,\n",
       " 0,\n",
       " 0,\n",
       " 0,\n",
       " 1,\n",
       " 0,\n",
       " 1,\n",
       " 1,\n",
       " 1,\n",
       " 1,\n",
       " 0,\n",
       " 1,\n",
       " 0,\n",
       " 1,\n",
       " 0]"
      ]
     },
     "execution_count": 27,
     "metadata": {},
     "output_type": "execute_result"
    }
   ],
   "source": [
    "y_prednew"
   ]
  },
  {
   "cell_type": "code",
   "execution_count": 28,
   "id": "ef40aa8e",
   "metadata": {},
   "outputs": [
    {
     "data": {
      "text/plain": [
       "0.6101694915254237"
      ]
     },
     "execution_count": 28,
     "metadata": {},
     "output_type": "execute_result"
    }
   ],
   "source": [
    "f1_score(y_prednew,y_test)"
   ]
  },
  {
   "cell_type": "code",
   "execution_count": 29,
   "id": "863218ae",
   "metadata": {},
   "outputs": [],
   "source": [
    "from sklearn.metrics import accuracy_score"
   ]
  },
  {
   "cell_type": "code",
   "execution_count": 30,
   "id": "a3480ef7",
   "metadata": {},
   "outputs": [
    {
     "data": {
      "text/plain": [
       "0.7012987012987013"
      ]
     },
     "execution_count": 30,
     "metadata": {},
     "output_type": "execute_result"
    }
   ],
   "source": [
    "accuracy_score(y_prednew,y_test)"
   ]
  },
  {
   "cell_type": "code",
   "execution_count": null,
   "id": "c187aa9f",
   "metadata": {},
   "outputs": [],
   "source": []
  },
  {
   "cell_type": "code",
   "execution_count": null,
   "id": "57171ab8",
   "metadata": {},
   "outputs": [],
   "source": []
  },
  {
   "cell_type": "code",
   "execution_count": null,
   "id": "1aab6825",
   "metadata": {},
   "outputs": [],
   "source": []
  }
 ],
 "metadata": {
  "kernelspec": {
   "display_name": "Python 3 (ipykernel)",
   "language": "python",
   "name": "python3"
  },
  "language_info": {
   "codemirror_mode": {
    "name": "ipython",
    "version": 3
   },
   "file_extension": ".py",
   "mimetype": "text/x-python",
   "name": "python",
   "nbconvert_exporter": "python",
   "pygments_lexer": "ipython3",
   "version": "3.9.13"
  }
 },
 "nbformat": 4,
 "nbformat_minor": 5
}
